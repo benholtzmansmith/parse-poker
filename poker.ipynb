{
 "cells": [
  {
   "cell_type": "code",
   "execution_count": 5,
   "metadata": {},
   "outputs": [],
   "source": [
    "import pandas as pd\n",
    "import requests\n",
    "import re\n",
    "\n",
    "pd.set_option('display.max_colwidth', None)"
   ]
  },
  {
   "cell_type": "code",
   "execution_count": 6,
   "metadata": {},
   "outputs": [],
   "source": [
    "url = \"https://www.pokernow.club/games/-krRhj-L9FWLOl9i4s6dRXV3A/log\"\n",
    "cookie = \"Cookie: _ga=GA1.2.1176765859.1584321546; npt=F7sKki9AUbSETJP6YfkMDRamCJ0SSyp0dG_aPNNpseuWt0C5_P; _gid=GA1.2.854668923.1585346561; io=nBC-yBmNIAlzApOeAJxk\""
   ]
  },
  {
   "cell_type": "code",
   "execution_count": 9,
   "metadata": {},
   "outputs": [],
   "source": [
    "logs = requests.get(url, headers={'Cookie': cookie})\n",
    "logs_df = pd.DataFrame(logs.json()[\"logs\"])\n",
    "msgs = logs_df[\"msg\"]"
   ]
  },
  {
   "cell_type": "code",
   "execution_count": 85,
   "metadata": {},
   "outputs": [],
   "source": [
    "# The admin updated the player \"Ted @ KMMFtEQ_0V\" stack from 10865 to 30865.\n",
    "\n",
    "players = {}\n",
    "\n",
    "def parse(msg):\n",
    "\n",
    "    r_updated = r'The admin updated the player \"(.*) @ (.*)\" stack from (.*) to (.*).'\n",
    "    r_approved = r'The admin approved the player \"(.*) @ (.*)\" participation with a stack of (.*).'\n",
    "    r_quits = r'The player \"(.*) @ (.*)\" quits the game with a stack of (.*).'\n",
    "\n",
    "    if \"The admin updated the player\" in msg:\n",
    "        m = re.match(r_updated, msg)\n",
    "        print(msg)\n",
    "        player = m.group(1)\n",
    "        starting = m.group(3)\n",
    "        if starting == \"undefined\":\n",
    "            starting = 0\n",
    "        else:\n",
    "            starting = int(m.group(3))\n",
    "        new = int(m.group(4))\n",
    "        add_on = new - starting\n",
    "        if player in players:\n",
    "            players[player] = players[player] - add_on\n",
    "        else:\n",
    "            players[player] = add_on\n",
    "    elif \"The admin approved the player\" in msg:\n",
    "        m = re.match(r_approved, msg)\n",
    "        player = m.group(1)\n",
    "        add_on = int(m.group(3))\n",
    "        if player in players:\n",
    "            players[player] = players[player] - add_on\n",
    "        else:\n",
    "            players[player] = add_on\n",
    "    elif \"quits the game with a stack of\" in msg:\n",
    "        m = re.match(r_quits, msg)\n",
    "        player = m.group(1)\n",
    "        minus = int(m.group(3))\n",
    "        if player in players:\n",
    "            players[player] = players[player] + minus\n",
    "        else:\n",
    "            players[player] = + minus"
   ]
  },
  {
   "cell_type": "code",
   "execution_count": 86,
   "metadata": {},
   "outputs": [],
   "source": [
    "import re\n",
    "string = 'The admin approved the player \"Andrew @ gWU7WlgWjZ\" participation with a stack of 45671.'\n",
    "r_approved = r'The admin approved the player \"(.*) @ (.*)\" participation with a stack of (.*).'\n",
    "m = re.match(r_approved, string)"
   ]
  },
  {
   "cell_type": "code",
   "execution_count": 87,
   "metadata": {
    "scrolled": true
   },
   "outputs": [
    {
     "data": {
      "text/plain": [
       "('Andrew', 'gWU7WlgWjZ', 45671)"
      ]
     },
     "execution_count": 87,
     "metadata": {},
     "output_type": "execute_result"
    }
   ],
   "source": [
    "m.group(1), m.group(2), int(m.group(3))"
   ]
  },
  {
   "cell_type": "code",
   "execution_count": 88,
   "metadata": {},
   "outputs": [],
   "source": [
    "game = pd.read_csv(\"~/Downloads/game.csv\")"
   ]
  },
  {
   "cell_type": "code",
   "execution_count": 89,
   "metadata": {
    "scrolled": true
   },
   "outputs": [
    {
     "name": "stdout",
     "output_type": "stream",
     "text": [
      "The admin updated the player \"Ted @ KMMFtEQ_0V\" stack from 10865 to 30865.\n",
      "The admin updated the player \"dwei @ MzpiBha7rg\" stack from 9900 to 19900.\n",
      "The admin updated the player \"Andrew @ gWU7WlgWjZ\" stack from 7980 to 17980.\n",
      "The admin updated the player \"Ted @ KMMFtEQ_0V\" stack from 6666 to 26666.\n",
      "The admin updated the player \"Ben @ 8CAQsmu_Vb\" stack from 10000 to 11894.\n",
      "The admin updated the player \"Bateman @ pYZ6BnttCY\" stack from 10000 to 10693.\n",
      "The admin updated the player \"Sen @ C2bFCv5NOo\" stack from 1000 to 10000.\n",
      "The admin updated the player \"Ben @ 8CAQsmu_Vb\" stack from undefined to 10000.\n",
      "The admin updated the player \"Ben @ 8CAQsmu_Vb\" stack from 5630 to 15630.\n",
      "The admin updated the player \"Sen @ xVVX2As6b7\" stack from 20000 to 20000.\n",
      "The admin updated the player \"Sen @ xVVX2As6b7\" stack from 30000 to 20000.\n",
      "The admin updated the player \"Ben @ 8CAQsmu_Vb\" stack from 8106 to 18206.\n"
     ]
    }
   ],
   "source": [
    "for msg in game[\"msg\"]:\n",
    "    parse(msg)"
   ]
  },
  {
   "cell_type": "code",
   "execution_count": 90,
   "metadata": {},
   "outputs": [
    {
     "data": {
      "text/plain": [
       "{'dwei': -25340,\n",
       " 'Ben': -24793,\n",
       " 'Ted': 16746,\n",
       " 'Andrew': 25621,\n",
       " 'Sen': 59269,\n",
       " 'Bateman': 5147,\n",
       " 'Danny': 4914,\n",
       " 'Akshay': -20000,\n",
       " 'Matt': -5812,\n",
       " 'Matt D': -4188,\n",
       " 'Aces-up': -27838,\n",
       " 'Ruben': 19074,\n",
       " 'Mike': -2800,\n",
       " 'BP': -5742,\n",
       " 'Bp': -4258,\n",
       " 'Aces=up': -10000,\n",
       " 'Big Dick': 0}"
      ]
     },
     "execution_count": 90,
     "metadata": {},
     "output_type": "execute_result"
    }
   ],
   "source": [
    "players"
   ]
  },
  {
   "cell_type": "code",
   "execution_count": 91,
   "metadata": {},
   "outputs": [],
   "source": [
    "from datetime import datetime"
   ]
  },
  {
   "cell_type": "code",
   "execution_count": 92,
   "metadata": {},
   "outputs": [
    {
     "data": {
      "text/plain": [
       "datetime.datetime(2020, 3, 28, 17, 59, 44, 611993)"
      ]
     },
     "execution_count": 92,
     "metadata": {},
     "output_type": "execute_result"
    }
   ],
   "source": [
    "datetime.today()"
   ]
  },
  {
   "cell_type": "code",
   "execution_count": 93,
   "metadata": {},
   "outputs": [
    {
     "data": {
      "text/plain": [
       "'2020-03-28 17:59:53.627488'"
      ]
     },
     "execution_count": 93,
     "metadata": {},
     "output_type": "execute_result"
    }
   ],
   "source": [
    "str(datetime.today())"
   ]
  },
  {
   "cell_type": "code",
   "execution_count": 94,
   "metadata": {},
   "outputs": [
    {
     "data": {
      "text/plain": [
       "datetime.datetime(2020, 3, 28, 19, 14, 17, 327572)"
      ]
     },
     "execution_count": 94,
     "metadata": {},
     "output_type": "execute_result"
    }
   ],
   "source": [
    "datetime.today()\n"
   ]
  },
  {
   "cell_type": "code",
   "execution_count": 95,
   "metadata": {},
   "outputs": [],
   "source": [
    "d = datetime.today()"
   ]
  },
  {
   "cell_type": "code",
   "execution_count": 106,
   "metadata": {},
   "outputs": [
    {
     "data": {
      "text/plain": [
       "'2020-28-03/19-14-24'"
      ]
     },
     "execution_count": 106,
     "metadata": {},
     "output_type": "execute_result"
    }
   ],
   "source": [
    "d.strftime(\"%Y-%d-%m/%H-%M-%S\")"
   ]
  },
  {
   "cell_type": "code",
   "execution_count": 107,
   "metadata": {},
   "outputs": [
    {
     "data": {
      "text/plain": [
       "0     The admin approved the player \"Ben @ 8CAQsmu_Vb\" participation with a stack of 10000.\n",
       "1         The player \"Sen @ C2bFCv5NOo\" passed the room ownership to \"Andrew @ gWU7WlgWjZ\".\n",
       "2            The player \"Ben @ 8CAQsmu_Vb\" passed the room ownership to \"Sen @ C2bFCv5NOo\".\n",
       "3                      The player \"dwei @ MzpiBha7rg\" quits the game with a stack of 24660.\n",
       "4                       The player \"Ben @ 8CAQsmu_Vb\" quits the game with a stack of 19453.\n",
       "                                              ...                                          \n",
       "95                                                       \"dwei @ MzpiBha7rg\" calls with 300\n",
       "96                          The player \"Ted @ KMMFtEQ_0V\" stand up with the stack of 51152.\n",
       "97                                                     \"Andrew @ gWU7WlgWjZ\" calls with 300\n",
       "98                                                                 \"Ted @ KMMFtEQ_0V\" folds\n",
       "99                                                       \"Ben @ 8CAQsmu_Vb\" raises with 300\n",
       "Name: msg, Length: 100, dtype: object"
      ]
     },
     "execution_count": 107,
     "metadata": {},
     "output_type": "execute_result"
    }
   ],
   "source": [
    "msgs"
   ]
  },
  {
   "cell_type": "code",
   "execution_count": 108,
   "metadata": {},
   "outputs": [
    {
     "data": {
      "text/html": [
       "<div>\n",
       "<style scoped>\n",
       "    .dataframe tbody tr th:only-of-type {\n",
       "        vertical-align: middle;\n",
       "    }\n",
       "\n",
       "    .dataframe tbody tr th {\n",
       "        vertical-align: top;\n",
       "    }\n",
       "\n",
       "    .dataframe thead th {\n",
       "        text-align: right;\n",
       "    }\n",
       "</style>\n",
       "<table border=\"1\" class=\"dataframe\">\n",
       "  <thead>\n",
       "    <tr style=\"text-align: right;\">\n",
       "      <th></th>\n",
       "      <th>msg</th>\n",
       "      <th>game_id</th>\n",
       "      <th>at</th>\n",
       "      <th>created_at</th>\n",
       "    </tr>\n",
       "  </thead>\n",
       "  <tbody>\n",
       "    <tr>\n",
       "      <th>0</th>\n",
       "      <td>The admin approved the player \"Ben @ 8CAQsmu_Vb\" participation with a stack of 10000.</td>\n",
       "      <td>-krRhj-L9FWLOl9i4s6dRXV3A</td>\n",
       "      <td>2020-03-28T20:32:01.523Z</td>\n",
       "      <td>158542752152855</td>\n",
       "    </tr>\n",
       "    <tr>\n",
       "      <th>1</th>\n",
       "      <td>The player \"Sen @ C2bFCv5NOo\" passed the room ownership to \"Andrew @ gWU7WlgWjZ\".</td>\n",
       "      <td>-krRhj-L9FWLOl9i4s6dRXV3A</td>\n",
       "      <td>2020-03-28T14:51:05.837Z</td>\n",
       "      <td>158540706588178</td>\n",
       "    </tr>\n",
       "    <tr>\n",
       "      <th>2</th>\n",
       "      <td>The player \"Ben @ 8CAQsmu_Vb\" passed the room ownership to \"Sen @ C2bFCv5NOo\".</td>\n",
       "      <td>-krRhj-L9FWLOl9i4s6dRXV3A</td>\n",
       "      <td>2020-03-28T05:26:40.936Z</td>\n",
       "      <td>158537320094532</td>\n",
       "    </tr>\n",
       "    <tr>\n",
       "      <th>3</th>\n",
       "      <td>The player \"dwei @ MzpiBha7rg\" quits the game with a stack of 24660.</td>\n",
       "      <td>-krRhj-L9FWLOl9i4s6dRXV3A</td>\n",
       "      <td>2020-03-28T05:26:30.864Z</td>\n",
       "      <td>158537319086938</td>\n",
       "    </tr>\n",
       "    <tr>\n",
       "      <th>4</th>\n",
       "      <td>The player \"Ben @ 8CAQsmu_Vb\" quits the game with a stack of 19453.</td>\n",
       "      <td>-krRhj-L9FWLOl9i4s6dRXV3A</td>\n",
       "      <td>2020-03-28T05:26:30.851Z</td>\n",
       "      <td>158537319085610</td>\n",
       "    </tr>\n",
       "    <tr>\n",
       "      <th>...</th>\n",
       "      <td>...</td>\n",
       "      <td>...</td>\n",
       "      <td>...</td>\n",
       "      <td>...</td>\n",
       "    </tr>\n",
       "    <tr>\n",
       "      <th>95</th>\n",
       "      <td>\"dwei @ MzpiBha7rg\" calls with 300</td>\n",
       "      <td>-krRhj-L9FWLOl9i4s6dRXV3A</td>\n",
       "      <td>2020-03-28T05:11:30.646Z</td>\n",
       "      <td>158537229065436</td>\n",
       "    </tr>\n",
       "    <tr>\n",
       "      <th>96</th>\n",
       "      <td>The player \"Ted @ KMMFtEQ_0V\" stand up with the stack of 51152.</td>\n",
       "      <td>-krRhj-L9FWLOl9i4s6dRXV3A</td>\n",
       "      <td>2020-03-28T05:11:30.121Z</td>\n",
       "      <td>158537229012708</td>\n",
       "    </tr>\n",
       "    <tr>\n",
       "      <th>97</th>\n",
       "      <td>\"Andrew @ gWU7WlgWjZ\" calls with 300</td>\n",
       "      <td>-krRhj-L9FWLOl9i4s6dRXV3A</td>\n",
       "      <td>2020-03-28T05:11:29.688Z</td>\n",
       "      <td>158537228969483</td>\n",
       "    </tr>\n",
       "    <tr>\n",
       "      <th>98</th>\n",
       "      <td>\"Ted @ KMMFtEQ_0V\" folds</td>\n",
       "      <td>-krRhj-L9FWLOl9i4s6dRXV3A</td>\n",
       "      <td>2020-03-28T05:11:26.858Z</td>\n",
       "      <td>158537228686702</td>\n",
       "    </tr>\n",
       "    <tr>\n",
       "      <th>99</th>\n",
       "      <td>\"Ben @ 8CAQsmu_Vb\" raises with 300</td>\n",
       "      <td>-krRhj-L9FWLOl9i4s6dRXV3A</td>\n",
       "      <td>2020-03-28T05:11:22.278Z</td>\n",
       "      <td>158537228228638</td>\n",
       "    </tr>\n",
       "  </tbody>\n",
       "</table>\n",
       "<p>100 rows × 4 columns</p>\n",
       "</div>"
      ],
      "text/plain": [
       "                                                                                      msg  \\\n",
       "0   The admin approved the player \"Ben @ 8CAQsmu_Vb\" participation with a stack of 10000.   \n",
       "1       The player \"Sen @ C2bFCv5NOo\" passed the room ownership to \"Andrew @ gWU7WlgWjZ\".   \n",
       "2          The player \"Ben @ 8CAQsmu_Vb\" passed the room ownership to \"Sen @ C2bFCv5NOo\".   \n",
       "3                    The player \"dwei @ MzpiBha7rg\" quits the game with a stack of 24660.   \n",
       "4                     The player \"Ben @ 8CAQsmu_Vb\" quits the game with a stack of 19453.   \n",
       "..                                                                                    ...   \n",
       "95                                                     \"dwei @ MzpiBha7rg\" calls with 300   \n",
       "96                        The player \"Ted @ KMMFtEQ_0V\" stand up with the stack of 51152.   \n",
       "97                                                   \"Andrew @ gWU7WlgWjZ\" calls with 300   \n",
       "98                                                               \"Ted @ KMMFtEQ_0V\" folds   \n",
       "99                                                     \"Ben @ 8CAQsmu_Vb\" raises with 300   \n",
       "\n",
       "                      game_id                        at       created_at  \n",
       "0   -krRhj-L9FWLOl9i4s6dRXV3A  2020-03-28T20:32:01.523Z  158542752152855  \n",
       "1   -krRhj-L9FWLOl9i4s6dRXV3A  2020-03-28T14:51:05.837Z  158540706588178  \n",
       "2   -krRhj-L9FWLOl9i4s6dRXV3A  2020-03-28T05:26:40.936Z  158537320094532  \n",
       "3   -krRhj-L9FWLOl9i4s6dRXV3A  2020-03-28T05:26:30.864Z  158537319086938  \n",
       "4   -krRhj-L9FWLOl9i4s6dRXV3A  2020-03-28T05:26:30.851Z  158537319085610  \n",
       "..                        ...                       ...              ...  \n",
       "95  -krRhj-L9FWLOl9i4s6dRXV3A  2020-03-28T05:11:30.646Z  158537229065436  \n",
       "96  -krRhj-L9FWLOl9i4s6dRXV3A  2020-03-28T05:11:30.121Z  158537229012708  \n",
       "97  -krRhj-L9FWLOl9i4s6dRXV3A  2020-03-28T05:11:29.688Z  158537228969483  \n",
       "98  -krRhj-L9FWLOl9i4s6dRXV3A  2020-03-28T05:11:26.858Z  158537228686702  \n",
       "99  -krRhj-L9FWLOl9i4s6dRXV3A  2020-03-28T05:11:22.278Z  158537228228638  \n",
       "\n",
       "[100 rows x 4 columns]"
      ]
     },
     "execution_count": 108,
     "metadata": {},
     "output_type": "execute_result"
    }
   ],
   "source": [
    "logs_df"
   ]
  },
  {
   "cell_type": "code",
   "execution_count": 137,
   "metadata": {},
   "outputs": [
    {
     "data": {
      "text/html": [
       "<div>\n",
       "<style scoped>\n",
       "    .dataframe tbody tr th:only-of-type {\n",
       "        vertical-align: middle;\n",
       "    }\n",
       "\n",
       "    .dataframe tbody tr th {\n",
       "        vertical-align: top;\n",
       "    }\n",
       "\n",
       "    .dataframe thead th {\n",
       "        text-align: right;\n",
       "    }\n",
       "</style>\n",
       "<table border=\"1\" class=\"dataframe\">\n",
       "  <thead>\n",
       "    <tr style=\"text-align: right;\">\n",
       "      <th></th>\n",
       "      <th>msg</th>\n",
       "      <th>game_id</th>\n",
       "      <th>at</th>\n",
       "      <th>created_at</th>\n",
       "    </tr>\n",
       "  </thead>\n",
       "  <tbody>\n",
       "    <tr>\n",
       "      <th>0</th>\n",
       "      <td>The admin approved the player \"Ben @ 8CAQsmu_Vb\" participation with a stack of 10000.</td>\n",
       "      <td>-krRhj-L9FWLOl9i4s6dRXV3A</td>\n",
       "      <td>2020-03-28T20:32:01.523Z</td>\n",
       "      <td>158542752152855</td>\n",
       "    </tr>\n",
       "    <tr>\n",
       "      <th>1</th>\n",
       "      <td>The player \"Sen @ C2bFCv5NOo\" passed the room ownership to \"Andrew @ gWU7WlgWjZ\".</td>\n",
       "      <td>-krRhj-L9FWLOl9i4s6dRXV3A</td>\n",
       "      <td>2020-03-28T14:51:05.837Z</td>\n",
       "      <td>158540706588178</td>\n",
       "    </tr>\n",
       "    <tr>\n",
       "      <th>2</th>\n",
       "      <td>The player \"Ben @ 8CAQsmu_Vb\" passed the room ownership to \"Sen @ C2bFCv5NOo\".</td>\n",
       "      <td>-krRhj-L9FWLOl9i4s6dRXV3A</td>\n",
       "      <td>2020-03-28T05:26:40.936Z</td>\n",
       "      <td>158537320094532</td>\n",
       "    </tr>\n",
       "    <tr>\n",
       "      <th>3</th>\n",
       "      <td>The player \"dwei @ MzpiBha7rg\" quits the game with a stack of 24660.</td>\n",
       "      <td>-krRhj-L9FWLOl9i4s6dRXV3A</td>\n",
       "      <td>2020-03-28T05:26:30.864Z</td>\n",
       "      <td>158537319086938</td>\n",
       "    </tr>\n",
       "    <tr>\n",
       "      <th>4</th>\n",
       "      <td>The player \"Ben @ 8CAQsmu_Vb\" quits the game with a stack of 19453.</td>\n",
       "      <td>-krRhj-L9FWLOl9i4s6dRXV3A</td>\n",
       "      <td>2020-03-28T05:26:30.851Z</td>\n",
       "      <td>158537319085610</td>\n",
       "    </tr>\n",
       "    <tr>\n",
       "      <th>...</th>\n",
       "      <td>...</td>\n",
       "      <td>...</td>\n",
       "      <td>...</td>\n",
       "      <td>...</td>\n",
       "    </tr>\n",
       "    <tr>\n",
       "      <th>95</th>\n",
       "      <td>\"dwei @ MzpiBha7rg\" calls with 300</td>\n",
       "      <td>-krRhj-L9FWLOl9i4s6dRXV3A</td>\n",
       "      <td>2020-03-28T05:11:30.646Z</td>\n",
       "      <td>158537229065436</td>\n",
       "    </tr>\n",
       "    <tr>\n",
       "      <th>96</th>\n",
       "      <td>The player \"Ted @ KMMFtEQ_0V\" stand up with the stack of 51152.</td>\n",
       "      <td>-krRhj-L9FWLOl9i4s6dRXV3A</td>\n",
       "      <td>2020-03-28T05:11:30.121Z</td>\n",
       "      <td>158537229012708</td>\n",
       "    </tr>\n",
       "    <tr>\n",
       "      <th>97</th>\n",
       "      <td>\"Andrew @ gWU7WlgWjZ\" calls with 300</td>\n",
       "      <td>-krRhj-L9FWLOl9i4s6dRXV3A</td>\n",
       "      <td>2020-03-28T05:11:29.688Z</td>\n",
       "      <td>158537228969483</td>\n",
       "    </tr>\n",
       "    <tr>\n",
       "      <th>98</th>\n",
       "      <td>\"Ted @ KMMFtEQ_0V\" folds</td>\n",
       "      <td>-krRhj-L9FWLOl9i4s6dRXV3A</td>\n",
       "      <td>2020-03-28T05:11:26.858Z</td>\n",
       "      <td>158537228686702</td>\n",
       "    </tr>\n",
       "    <tr>\n",
       "      <th>99</th>\n",
       "      <td>\"Ben @ 8CAQsmu_Vb\" raises with 300</td>\n",
       "      <td>-krRhj-L9FWLOl9i4s6dRXV3A</td>\n",
       "      <td>2020-03-28T05:11:22.278Z</td>\n",
       "      <td>158537228228638</td>\n",
       "    </tr>\n",
       "  </tbody>\n",
       "</table>\n",
       "<p>100 rows × 4 columns</p>\n",
       "</div>"
      ],
      "text/plain": [
       "                                                                                      msg  \\\n",
       "0   The admin approved the player \"Ben @ 8CAQsmu_Vb\" participation with a stack of 10000.   \n",
       "1       The player \"Sen @ C2bFCv5NOo\" passed the room ownership to \"Andrew @ gWU7WlgWjZ\".   \n",
       "2          The player \"Ben @ 8CAQsmu_Vb\" passed the room ownership to \"Sen @ C2bFCv5NOo\".   \n",
       "3                    The player \"dwei @ MzpiBha7rg\" quits the game with a stack of 24660.   \n",
       "4                     The player \"Ben @ 8CAQsmu_Vb\" quits the game with a stack of 19453.   \n",
       "..                                                                                    ...   \n",
       "95                                                     \"dwei @ MzpiBha7rg\" calls with 300   \n",
       "96                        The player \"Ted @ KMMFtEQ_0V\" stand up with the stack of 51152.   \n",
       "97                                                   \"Andrew @ gWU7WlgWjZ\" calls with 300   \n",
       "98                                                               \"Ted @ KMMFtEQ_0V\" folds   \n",
       "99                                                     \"Ben @ 8CAQsmu_Vb\" raises with 300   \n",
       "\n",
       "                      game_id                        at       created_at  \n",
       "0   -krRhj-L9FWLOl9i4s6dRXV3A  2020-03-28T20:32:01.523Z  158542752152855  \n",
       "1   -krRhj-L9FWLOl9i4s6dRXV3A  2020-03-28T14:51:05.837Z  158540706588178  \n",
       "2   -krRhj-L9FWLOl9i4s6dRXV3A  2020-03-28T05:26:40.936Z  158537320094532  \n",
       "3   -krRhj-L9FWLOl9i4s6dRXV3A  2020-03-28T05:26:30.864Z  158537319086938  \n",
       "4   -krRhj-L9FWLOl9i4s6dRXV3A  2020-03-28T05:26:30.851Z  158537319085610  \n",
       "..                        ...                       ...              ...  \n",
       "95  -krRhj-L9FWLOl9i4s6dRXV3A  2020-03-28T05:11:30.646Z  158537229065436  \n",
       "96  -krRhj-L9FWLOl9i4s6dRXV3A  2020-03-28T05:11:30.121Z  158537229012708  \n",
       "97  -krRhj-L9FWLOl9i4s6dRXV3A  2020-03-28T05:11:29.688Z  158537228969483  \n",
       "98  -krRhj-L9FWLOl9i4s6dRXV3A  2020-03-28T05:11:26.858Z  158537228686702  \n",
       "99  -krRhj-L9FWLOl9i4s6dRXV3A  2020-03-28T05:11:22.278Z  158537228228638  \n",
       "\n",
       "[100 rows x 4 columns]"
      ]
     },
     "execution_count": 137,
     "metadata": {},
     "output_type": "execute_result"
    }
   ],
   "source": [
    "logs_df[logs_df['at'] > \"\"]"
   ]
  },
  {
   "cell_type": "code",
   "execution_count": 134,
   "metadata": {},
   "outputs": [
    {
     "ename": "KeyError",
     "evalue": "'g'",
     "output_type": "error",
     "traceback": [
      "\u001b[0;31m---------------------------------------------------------------------------\u001b[0m",
      "\u001b[0;31mKeyError\u001b[0m                                  Traceback (most recent call last)",
      "\u001b[0;32m<ipython-input-134-97f60f8a9713>\u001b[0m in \u001b[0;36m<module>\u001b[0;34m\u001b[0m\n\u001b[0;32m----> 1\u001b[0;31m \u001b[0ms\u001b[0m\u001b[0;34m.\u001b[0m\u001b[0mpop\u001b[0m\u001b[0;34m(\u001b[0m\u001b[0;34m\"g\"\u001b[0m\u001b[0;34m)\u001b[0m\u001b[0;34m\u001b[0m\u001b[0m\n\u001b[0m",
      "\u001b[0;31mKeyError\u001b[0m: 'g'"
     ]
    }
   ],
   "source": [
    "s.pop(\"g\")"
   ]
  },
  {
   "cell_type": "code",
   "execution_count": 111,
   "metadata": {},
   "outputs": [
    {
     "data": {
      "text/plain": [
       "{}"
      ]
     },
     "execution_count": 111,
     "metadata": {},
     "output_type": "execute_result"
    }
   ],
   "source": [
    "s"
   ]
  },
  {
   "cell_type": "code",
   "execution_count": 116,
   "metadata": {},
   "outputs": [
    {
     "ename": "TypeError",
     "evalue": "an integer is required (got type str)",
     "output_type": "error",
     "traceback": [
      "\u001b[0;31m---------------------------------------------------------------------------\u001b[0m",
      "\u001b[0;31mTypeError\u001b[0m                                 Traceback (most recent call last)",
      "\u001b[0;32m<ipython-input-116-b90ed77d6885>\u001b[0m in \u001b[0;36m<module>\u001b[0;34m\u001b[0m\n\u001b[0;32m----> 1\u001b[0;31m \u001b[0mdatetime\u001b[0m\u001b[0;34m(\u001b[0m\u001b[0;34m\"2020-03-28T20:32:01.523Z\"\u001b[0m\u001b[0;34m)\u001b[0m\u001b[0;34m\u001b[0m\u001b[0m\n\u001b[0m",
      "\u001b[0;31mTypeError\u001b[0m: an integer is required (got type str)"
     ]
    }
   ],
   "source": [
    "datetime(\"2020-03-28T20:32:01.523Z\")"
   ]
  },
  {
   "cell_type": "code",
   "execution_count": 133,
   "metadata": {},
   "outputs": [
    {
     "data": {
      "text/plain": [
       "'2020-03-28T20:32:01.523Z'"
      ]
     },
     "execution_count": 133,
     "metadata": {},
     "output_type": "execute_result"
    }
   ],
   "source": [
    "logs_df.iloc[0][\"at\"]"
   ]
  },
  {
   "cell_type": "code",
   "execution_count": null,
   "metadata": {},
   "outputs": [],
   "source": []
  }
 ],
 "metadata": {
  "kernelspec": {
   "display_name": "Python 3",
   "language": "python",
   "name": "python3"
  },
  "language_info": {
   "codemirror_mode": {
    "name": "ipython",
    "version": 3
   },
   "file_extension": ".py",
   "mimetype": "text/x-python",
   "name": "python",
   "nbconvert_exporter": "python",
   "pygments_lexer": "ipython3",
   "version": "3.7.0"
  }
 },
 "nbformat": 4,
 "nbformat_minor": 4
}
